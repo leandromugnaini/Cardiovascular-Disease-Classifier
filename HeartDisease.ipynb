{
  "nbformat": 4,
  "nbformat_minor": 0,
  "metadata": {
    "colab": {
      "name": "HeartDisease.ipynb",
      "provenance": [],
      "collapsed_sections": []
    },
    "kernelspec": {
      "name": "python3",
      "display_name": "Python 3"
    }
  },
  "cells": [
    {
      "cell_type": "markdown",
      "metadata": {
        "id": "G-rjy0jMKcr1"
      },
      "source": [
        "### **Análise de dados sobre a ocorrência de doenças cardiovasculares**"
      ]
    },
    {
      "cell_type": "markdown",
      "metadata": {
        "id": "rA9DZabpCSOr"
      },
      "source": [
        "Esse projeto possui como objetivo trabalhar com o conjunto de dados sobre doenças cardíacas do site Kaggle: [Cardiovascular Disease Dataset](https://www.kaggle.com/sulianova/cardiovascular-disease-dataset). \n",
        "\n",
        "As seguintes tarefas foram realizadas:\n",
        "\n",
        "\n",
        "*   Análise inicial dos dados;\n",
        "*   Processo de *feature engineering*;\n",
        "*   Análise de correlação e seleção das *features* mais relevantes para o treino;\n",
        "*   Utilização da biblioteca *Pytorch* para criar um modelo de aprendizado supervisionado;\n",
        "*   Análise do resultado proporcionado pelo modelo.\n",
        "\n",
        "\n",
        "Obs: esse projeto é consistente com o aprendizado adquirido até o dia 31 / 09 / 2020. Após essa data novos conhecimentos serão adquiridos e algumas decisões de projeto provavelmente mudariam.  "
      ]
    },
    {
      "cell_type": "code",
      "metadata": {
        "id": "zvUJX6xwD120",
        "outputId": "dc6d755b-1d29-40b9-828d-871f1e8ba245",
        "colab": {
          "base_uri": "https://localhost:8080/",
          "height": 35
        }
      },
      "source": [
        "from google.colab import drive\n",
        "\n",
        "drive.mount('/content/drive')"
      ],
      "execution_count": null,
      "outputs": [
        {
          "output_type": "stream",
          "text": [
            "Drive already mounted at /content/drive; to attempt to forcibly remount, call drive.mount(\"/content/drive\", force_remount=True).\n"
          ],
          "name": "stdout"
        }
      ]
    },
    {
      "cell_type": "markdown",
      "metadata": {
        "id": "1tIDHrZRFMj1"
      },
      "source": [
        "Descrição dos dados:\n",
        "\n",
        "*   Coluna 1: Idade em dias (inteiro)\n",
        "*   Coluna 2: Altura em cm (inteiro)\n",
        "*   Coluna 3: Peso em kg (float)\n",
        "*   Coluna 4: Gênero (dado categórico)\n",
        "*   Coluna 5: Pressão sanguínea sistólica (inteiro)\n",
        "*   Coluna 6: Pressão sanguínea diastólica (inteiro)\n",
        "*   Coluna 7: Colesterol (1 - normal; 2 - acima do normal; 3 muito acima do normal)\n",
        "*   Coluna 8: Glicose (1 - normal; 2 - acima do normal; 3 muito acima do normal)\n",
        "*   Coluna 9: Consumo de cigarro (1 - Sim ; 0 - Não)\n",
        "*   Coluna 10: Consumo de álcool (1 - Sim ; 0 - Não)\n",
        "*   Coluna 11: Realiza atividade física (1 - Sim ; 0 - Não)\n",
        "*   Coluna 12: Presença ou ausência de doença cardiovascular (1 - Sim ; 0 - Não)\n",
        "\n",
        "\n",
        "\n",
        "\n",
        "\n",
        "\n",
        "\n",
        "\n",
        "\n",
        "\n",
        "\n",
        "\n",
        "\n",
        "\n",
        "\n",
        "\n",
        "\n"
      ]
    },
    {
      "cell_type": "code",
      "metadata": {
        "id": "rbnFXbh8EMnh",
        "outputId": "03bd9c29-3e31-4e76-c3ab-df6fe7107f32",
        "colab": {
          "base_uri": "https://localhost:8080/",
          "height": 424
        }
      },
      "source": [
        "import pandas as pd\n",
        "import numpy as np\n",
        "from seaborn import heatmap\n",
        "from seaborn import barplot\n",
        "from pandas import Series, concat\n",
        "dados = pd.read_csv(\"/content/drive/My Drive/Colab Notebooks/cardio_train.csv\", sep=\";\")\n",
        "\n",
        "#removendo a coluna id que é irrelevante para a análise\n",
        "dados_drop = dados.drop(columns=[\"id\"])\n",
        "dados_drop\n"
      ],
      "execution_count": null,
      "outputs": [
        {
          "output_type": "execute_result",
          "data": {
            "text/html": [
              "<div>\n",
              "<style scoped>\n",
              "    .dataframe tbody tr th:only-of-type {\n",
              "        vertical-align: middle;\n",
              "    }\n",
              "\n",
              "    .dataframe tbody tr th {\n",
              "        vertical-align: top;\n",
              "    }\n",
              "\n",
              "    .dataframe thead th {\n",
              "        text-align: right;\n",
              "    }\n",
              "</style>\n",
              "<table border=\"1\" class=\"dataframe\">\n",
              "  <thead>\n",
              "    <tr style=\"text-align: right;\">\n",
              "      <th></th>\n",
              "      <th>age</th>\n",
              "      <th>gender</th>\n",
              "      <th>height</th>\n",
              "      <th>weight</th>\n",
              "      <th>ap_hi</th>\n",
              "      <th>ap_lo</th>\n",
              "      <th>cholesterol</th>\n",
              "      <th>gluc</th>\n",
              "      <th>smoke</th>\n",
              "      <th>alco</th>\n",
              "      <th>active</th>\n",
              "      <th>cardio</th>\n",
              "    </tr>\n",
              "  </thead>\n",
              "  <tbody>\n",
              "    <tr>\n",
              "      <th>0</th>\n",
              "      <td>18393</td>\n",
              "      <td>2</td>\n",
              "      <td>168</td>\n",
              "      <td>62.0</td>\n",
              "      <td>110</td>\n",
              "      <td>80</td>\n",
              "      <td>1</td>\n",
              "      <td>1</td>\n",
              "      <td>0</td>\n",
              "      <td>0</td>\n",
              "      <td>1</td>\n",
              "      <td>0</td>\n",
              "    </tr>\n",
              "    <tr>\n",
              "      <th>1</th>\n",
              "      <td>20228</td>\n",
              "      <td>1</td>\n",
              "      <td>156</td>\n",
              "      <td>85.0</td>\n",
              "      <td>140</td>\n",
              "      <td>90</td>\n",
              "      <td>3</td>\n",
              "      <td>1</td>\n",
              "      <td>0</td>\n",
              "      <td>0</td>\n",
              "      <td>1</td>\n",
              "      <td>1</td>\n",
              "    </tr>\n",
              "    <tr>\n",
              "      <th>2</th>\n",
              "      <td>18857</td>\n",
              "      <td>1</td>\n",
              "      <td>165</td>\n",
              "      <td>64.0</td>\n",
              "      <td>130</td>\n",
              "      <td>70</td>\n",
              "      <td>3</td>\n",
              "      <td>1</td>\n",
              "      <td>0</td>\n",
              "      <td>0</td>\n",
              "      <td>0</td>\n",
              "      <td>1</td>\n",
              "    </tr>\n",
              "    <tr>\n",
              "      <th>3</th>\n",
              "      <td>17623</td>\n",
              "      <td>2</td>\n",
              "      <td>169</td>\n",
              "      <td>82.0</td>\n",
              "      <td>150</td>\n",
              "      <td>100</td>\n",
              "      <td>1</td>\n",
              "      <td>1</td>\n",
              "      <td>0</td>\n",
              "      <td>0</td>\n",
              "      <td>1</td>\n",
              "      <td>1</td>\n",
              "    </tr>\n",
              "    <tr>\n",
              "      <th>4</th>\n",
              "      <td>17474</td>\n",
              "      <td>1</td>\n",
              "      <td>156</td>\n",
              "      <td>56.0</td>\n",
              "      <td>100</td>\n",
              "      <td>60</td>\n",
              "      <td>1</td>\n",
              "      <td>1</td>\n",
              "      <td>0</td>\n",
              "      <td>0</td>\n",
              "      <td>0</td>\n",
              "      <td>0</td>\n",
              "    </tr>\n",
              "    <tr>\n",
              "      <th>...</th>\n",
              "      <td>...</td>\n",
              "      <td>...</td>\n",
              "      <td>...</td>\n",
              "      <td>...</td>\n",
              "      <td>...</td>\n",
              "      <td>...</td>\n",
              "      <td>...</td>\n",
              "      <td>...</td>\n",
              "      <td>...</td>\n",
              "      <td>...</td>\n",
              "      <td>...</td>\n",
              "      <td>...</td>\n",
              "    </tr>\n",
              "    <tr>\n",
              "      <th>69995</th>\n",
              "      <td>19240</td>\n",
              "      <td>2</td>\n",
              "      <td>168</td>\n",
              "      <td>76.0</td>\n",
              "      <td>120</td>\n",
              "      <td>80</td>\n",
              "      <td>1</td>\n",
              "      <td>1</td>\n",
              "      <td>1</td>\n",
              "      <td>0</td>\n",
              "      <td>1</td>\n",
              "      <td>0</td>\n",
              "    </tr>\n",
              "    <tr>\n",
              "      <th>69996</th>\n",
              "      <td>22601</td>\n",
              "      <td>1</td>\n",
              "      <td>158</td>\n",
              "      <td>126.0</td>\n",
              "      <td>140</td>\n",
              "      <td>90</td>\n",
              "      <td>2</td>\n",
              "      <td>2</td>\n",
              "      <td>0</td>\n",
              "      <td>0</td>\n",
              "      <td>1</td>\n",
              "      <td>1</td>\n",
              "    </tr>\n",
              "    <tr>\n",
              "      <th>69997</th>\n",
              "      <td>19066</td>\n",
              "      <td>2</td>\n",
              "      <td>183</td>\n",
              "      <td>105.0</td>\n",
              "      <td>180</td>\n",
              "      <td>90</td>\n",
              "      <td>3</td>\n",
              "      <td>1</td>\n",
              "      <td>0</td>\n",
              "      <td>1</td>\n",
              "      <td>0</td>\n",
              "      <td>1</td>\n",
              "    </tr>\n",
              "    <tr>\n",
              "      <th>69998</th>\n",
              "      <td>22431</td>\n",
              "      <td>1</td>\n",
              "      <td>163</td>\n",
              "      <td>72.0</td>\n",
              "      <td>135</td>\n",
              "      <td>80</td>\n",
              "      <td>1</td>\n",
              "      <td>2</td>\n",
              "      <td>0</td>\n",
              "      <td>0</td>\n",
              "      <td>0</td>\n",
              "      <td>1</td>\n",
              "    </tr>\n",
              "    <tr>\n",
              "      <th>69999</th>\n",
              "      <td>20540</td>\n",
              "      <td>1</td>\n",
              "      <td>170</td>\n",
              "      <td>72.0</td>\n",
              "      <td>120</td>\n",
              "      <td>80</td>\n",
              "      <td>2</td>\n",
              "      <td>1</td>\n",
              "      <td>0</td>\n",
              "      <td>0</td>\n",
              "      <td>1</td>\n",
              "      <td>0</td>\n",
              "    </tr>\n",
              "  </tbody>\n",
              "</table>\n",
              "<p>70000 rows × 12 columns</p>\n",
              "</div>"
            ],
            "text/plain": [
              "         age  gender  height  weight  ap_hi  ...  gluc  smoke  alco  active  cardio\n",
              "0      18393       2     168    62.0    110  ...     1      0     0       1       0\n",
              "1      20228       1     156    85.0    140  ...     1      0     0       1       1\n",
              "2      18857       1     165    64.0    130  ...     1      0     0       0       1\n",
              "3      17623       2     169    82.0    150  ...     1      0     0       1       1\n",
              "4      17474       1     156    56.0    100  ...     1      0     0       0       0\n",
              "...      ...     ...     ...     ...    ...  ...   ...    ...   ...     ...     ...\n",
              "69995  19240       2     168    76.0    120  ...     1      1     0       1       0\n",
              "69996  22601       1     158   126.0    140  ...     2      0     0       1       1\n",
              "69997  19066       2     183   105.0    180  ...     1      0     1       0       1\n",
              "69998  22431       1     163    72.0    135  ...     2      0     0       0       1\n",
              "69999  20540       1     170    72.0    120  ...     1      0     0       1       0\n",
              "\n",
              "[70000 rows x 12 columns]"
            ]
          },
          "metadata": {
            "tags": []
          },
          "execution_count": 526
        }
      ]
    },
    {
      "cell_type": "code",
      "metadata": {
        "id": "fX_bd2gmvo5x",
        "outputId": "d0a5c04c-cce1-461f-92a5-73676a16624f",
        "colab": {
          "base_uri": "https://localhost:8080/",
          "height": 54
        }
      },
      "source": [
        "#Vamos checar o balanceamento dos True Negativos (Não tem doença cardíaca) e True Positivos (tem doença cardíaca do dataset)\n",
        "positivo = 0\n",
        "negativo = 0\n",
        "for i in dados_drop['cardio']:\n",
        "  if(dados_drop['cardio'][i] == 1):\n",
        "    positivo += 1\n",
        "  elif(dados_drop['cardio'][i] == 0):\n",
        "    negativo += 1\n",
        "  else:\n",
        "    print(\"ERRO NO LABEL DO DATASET\")\n",
        "\n",
        "print(\"POSITIVO: \", positivo)\n",
        "print(\"NEGATIVO: \", negativo)"
      ],
      "execution_count": null,
      "outputs": [
        {
          "output_type": "stream",
          "text": [
            "POSITIVO:  34979\n",
            "NEGATIVO:  35021\n"
          ],
          "name": "stdout"
        }
      ]
    },
    {
      "cell_type": "markdown",
      "metadata": {
        "id": "LcC1KPi64yfM"
      },
      "source": [
        "Para uma análise extra e treinar a manipulação dos dados, vamos realizar um *feature engineering* e medir o índice de massa corporal de cada um dos indivíduos. Não se trata de uma medida ideal pois provavelmente um indicador da porcentagem de gordura corporal traria melhores resultados, porém é uma análise válida que pode ser feita. O cálculo do IMC é dado por:\n",
        "\n",
        "$$IMC = \\frac{Peso}{Altura^2}$$\n",
        "\n",
        "Onde a altura é calculada em metros e o peso em kg. "
      ]
    },
    {
      "cell_type": "code",
      "metadata": {
        "id": "wg2FDott5-L3",
        "outputId": "f6744dfa-eca4-4b2c-96c7-82d006980200",
        "colab": {
          "base_uri": "https://localhost:8080/",
          "height": 237
        }
      },
      "source": [
        "altura_quadrado = (dados_drop[\"height\"]/100)*(dados_drop[\"height\"]/100)\n",
        "peso = dados_drop[\"weight\"]\n",
        "imc = peso/altura_quadrado\n",
        "imc"
      ],
      "execution_count": null,
      "outputs": [
        {
          "output_type": "execute_result",
          "data": {
            "text/plain": [
              "0        21.967120\n",
              "1        34.927679\n",
              "2        23.507805\n",
              "3        28.710479\n",
              "4        23.011177\n",
              "           ...    \n",
              "69995    26.927438\n",
              "69996    50.472681\n",
              "69997    31.353579\n",
              "69998    27.099251\n",
              "69999    24.913495\n",
              "Length: 70000, dtype: float64"
            ]
          },
          "metadata": {
            "tags": []
          },
          "execution_count": 528
        }
      ]
    },
    {
      "cell_type": "markdown",
      "metadata": {
        "id": "g8PlVBntp59U"
      },
      "source": [
        "Transformando a idade de dias para anos. Para trabalhar com valores menores, diminuindo a computação necessária."
      ]
    },
    {
      "cell_type": "code",
      "metadata": {
        "id": "zsvBR8CDpn6A"
      },
      "source": [
        "idade_nova = dados_drop[\"age\"]/365"
      ],
      "execution_count": null,
      "outputs": []
    },
    {
      "cell_type": "markdown",
      "metadata": {
        "id": "t-GgzALD-FWf"
      },
      "source": [
        "Vamos agora fazer um append dos valores de IMC e idade no dataframe original.\n"
      ]
    },
    {
      "cell_type": "code",
      "metadata": {
        "id": "vGlIctYB-KuB",
        "outputId": "554cfb82-02cf-41ff-d7d1-f4570428c271",
        "colab": {
          "base_uri": "https://localhost:8080/",
          "height": 424
        }
      },
      "source": [
        "dados_drop[\"imc\"]=imc\n",
        "dados_drop[\"age\"]=idade_nova\n",
        "dados_drop"
      ],
      "execution_count": null,
      "outputs": [
        {
          "output_type": "execute_result",
          "data": {
            "text/html": [
              "<div>\n",
              "<style scoped>\n",
              "    .dataframe tbody tr th:only-of-type {\n",
              "        vertical-align: middle;\n",
              "    }\n",
              "\n",
              "    .dataframe tbody tr th {\n",
              "        vertical-align: top;\n",
              "    }\n",
              "\n",
              "    .dataframe thead th {\n",
              "        text-align: right;\n",
              "    }\n",
              "</style>\n",
              "<table border=\"1\" class=\"dataframe\">\n",
              "  <thead>\n",
              "    <tr style=\"text-align: right;\">\n",
              "      <th></th>\n",
              "      <th>age</th>\n",
              "      <th>gender</th>\n",
              "      <th>height</th>\n",
              "      <th>weight</th>\n",
              "      <th>ap_hi</th>\n",
              "      <th>ap_lo</th>\n",
              "      <th>cholesterol</th>\n",
              "      <th>gluc</th>\n",
              "      <th>smoke</th>\n",
              "      <th>alco</th>\n",
              "      <th>active</th>\n",
              "      <th>cardio</th>\n",
              "      <th>imc</th>\n",
              "    </tr>\n",
              "  </thead>\n",
              "  <tbody>\n",
              "    <tr>\n",
              "      <th>0</th>\n",
              "      <td>50.391781</td>\n",
              "      <td>2</td>\n",
              "      <td>168</td>\n",
              "      <td>62.0</td>\n",
              "      <td>110</td>\n",
              "      <td>80</td>\n",
              "      <td>1</td>\n",
              "      <td>1</td>\n",
              "      <td>0</td>\n",
              "      <td>0</td>\n",
              "      <td>1</td>\n",
              "      <td>0</td>\n",
              "      <td>21.967120</td>\n",
              "    </tr>\n",
              "    <tr>\n",
              "      <th>1</th>\n",
              "      <td>55.419178</td>\n",
              "      <td>1</td>\n",
              "      <td>156</td>\n",
              "      <td>85.0</td>\n",
              "      <td>140</td>\n",
              "      <td>90</td>\n",
              "      <td>3</td>\n",
              "      <td>1</td>\n",
              "      <td>0</td>\n",
              "      <td>0</td>\n",
              "      <td>1</td>\n",
              "      <td>1</td>\n",
              "      <td>34.927679</td>\n",
              "    </tr>\n",
              "    <tr>\n",
              "      <th>2</th>\n",
              "      <td>51.663014</td>\n",
              "      <td>1</td>\n",
              "      <td>165</td>\n",
              "      <td>64.0</td>\n",
              "      <td>130</td>\n",
              "      <td>70</td>\n",
              "      <td>3</td>\n",
              "      <td>1</td>\n",
              "      <td>0</td>\n",
              "      <td>0</td>\n",
              "      <td>0</td>\n",
              "      <td>1</td>\n",
              "      <td>23.507805</td>\n",
              "    </tr>\n",
              "    <tr>\n",
              "      <th>3</th>\n",
              "      <td>48.282192</td>\n",
              "      <td>2</td>\n",
              "      <td>169</td>\n",
              "      <td>82.0</td>\n",
              "      <td>150</td>\n",
              "      <td>100</td>\n",
              "      <td>1</td>\n",
              "      <td>1</td>\n",
              "      <td>0</td>\n",
              "      <td>0</td>\n",
              "      <td>1</td>\n",
              "      <td>1</td>\n",
              "      <td>28.710479</td>\n",
              "    </tr>\n",
              "    <tr>\n",
              "      <th>4</th>\n",
              "      <td>47.873973</td>\n",
              "      <td>1</td>\n",
              "      <td>156</td>\n",
              "      <td>56.0</td>\n",
              "      <td>100</td>\n",
              "      <td>60</td>\n",
              "      <td>1</td>\n",
              "      <td>1</td>\n",
              "      <td>0</td>\n",
              "      <td>0</td>\n",
              "      <td>0</td>\n",
              "      <td>0</td>\n",
              "      <td>23.011177</td>\n",
              "    </tr>\n",
              "    <tr>\n",
              "      <th>...</th>\n",
              "      <td>...</td>\n",
              "      <td>...</td>\n",
              "      <td>...</td>\n",
              "      <td>...</td>\n",
              "      <td>...</td>\n",
              "      <td>...</td>\n",
              "      <td>...</td>\n",
              "      <td>...</td>\n",
              "      <td>...</td>\n",
              "      <td>...</td>\n",
              "      <td>...</td>\n",
              "      <td>...</td>\n",
              "      <td>...</td>\n",
              "    </tr>\n",
              "    <tr>\n",
              "      <th>69995</th>\n",
              "      <td>52.712329</td>\n",
              "      <td>2</td>\n",
              "      <td>168</td>\n",
              "      <td>76.0</td>\n",
              "      <td>120</td>\n",
              "      <td>80</td>\n",
              "      <td>1</td>\n",
              "      <td>1</td>\n",
              "      <td>1</td>\n",
              "      <td>0</td>\n",
              "      <td>1</td>\n",
              "      <td>0</td>\n",
              "      <td>26.927438</td>\n",
              "    </tr>\n",
              "    <tr>\n",
              "      <th>69996</th>\n",
              "      <td>61.920548</td>\n",
              "      <td>1</td>\n",
              "      <td>158</td>\n",
              "      <td>126.0</td>\n",
              "      <td>140</td>\n",
              "      <td>90</td>\n",
              "      <td>2</td>\n",
              "      <td>2</td>\n",
              "      <td>0</td>\n",
              "      <td>0</td>\n",
              "      <td>1</td>\n",
              "      <td>1</td>\n",
              "      <td>50.472681</td>\n",
              "    </tr>\n",
              "    <tr>\n",
              "      <th>69997</th>\n",
              "      <td>52.235616</td>\n",
              "      <td>2</td>\n",
              "      <td>183</td>\n",
              "      <td>105.0</td>\n",
              "      <td>180</td>\n",
              "      <td>90</td>\n",
              "      <td>3</td>\n",
              "      <td>1</td>\n",
              "      <td>0</td>\n",
              "      <td>1</td>\n",
              "      <td>0</td>\n",
              "      <td>1</td>\n",
              "      <td>31.353579</td>\n",
              "    </tr>\n",
              "    <tr>\n",
              "      <th>69998</th>\n",
              "      <td>61.454795</td>\n",
              "      <td>1</td>\n",
              "      <td>163</td>\n",
              "      <td>72.0</td>\n",
              "      <td>135</td>\n",
              "      <td>80</td>\n",
              "      <td>1</td>\n",
              "      <td>2</td>\n",
              "      <td>0</td>\n",
              "      <td>0</td>\n",
              "      <td>0</td>\n",
              "      <td>1</td>\n",
              "      <td>27.099251</td>\n",
              "    </tr>\n",
              "    <tr>\n",
              "      <th>69999</th>\n",
              "      <td>56.273973</td>\n",
              "      <td>1</td>\n",
              "      <td>170</td>\n",
              "      <td>72.0</td>\n",
              "      <td>120</td>\n",
              "      <td>80</td>\n",
              "      <td>2</td>\n",
              "      <td>1</td>\n",
              "      <td>0</td>\n",
              "      <td>0</td>\n",
              "      <td>1</td>\n",
              "      <td>0</td>\n",
              "      <td>24.913495</td>\n",
              "    </tr>\n",
              "  </tbody>\n",
              "</table>\n",
              "<p>70000 rows × 13 columns</p>\n",
              "</div>"
            ],
            "text/plain": [
              "             age  gender  height  weight  ...  alco  active  cardio        imc\n",
              "0      50.391781       2     168    62.0  ...     0       1       0  21.967120\n",
              "1      55.419178       1     156    85.0  ...     0       1       1  34.927679\n",
              "2      51.663014       1     165    64.0  ...     0       0       1  23.507805\n",
              "3      48.282192       2     169    82.0  ...     0       1       1  28.710479\n",
              "4      47.873973       1     156    56.0  ...     0       0       0  23.011177\n",
              "...          ...     ...     ...     ...  ...   ...     ...     ...        ...\n",
              "69995  52.712329       2     168    76.0  ...     0       1       0  26.927438\n",
              "69996  61.920548       1     158   126.0  ...     0       1       1  50.472681\n",
              "69997  52.235616       2     183   105.0  ...     1       0       1  31.353579\n",
              "69998  61.454795       1     163    72.0  ...     0       0       1  27.099251\n",
              "69999  56.273973       1     170    72.0  ...     0       1       0  24.913495\n",
              "\n",
              "[70000 rows x 13 columns]"
            ]
          },
          "metadata": {
            "tags": []
          },
          "execution_count": 530
        }
      ]
    },
    {
      "cell_type": "markdown",
      "metadata": {
        "id": "iX0EKMy839Ym"
      },
      "source": [
        "Para fazer uma análise da relação dos dados com o output, vamos separar os dados categóricos dos dados numéricos. "
      ]
    },
    {
      "cell_type": "code",
      "metadata": {
        "id": "EOtWwqOkXV7F",
        "outputId": "11e33bf5-4fc8-4fb8-d8dd-34b81581e03a",
        "colab": {
          "base_uri": "https://localhost:8080/",
          "height": 424
        }
      },
      "source": [
        "features_categoricas = ['gender', 'cholesterol', 'gluc', 'smoke', 'alco', 'active', 'cardio']\n",
        "categorical_data = dados_drop[features_categoricas]\n",
        "categorical_data\n"
      ],
      "execution_count": null,
      "outputs": [
        {
          "output_type": "execute_result",
          "data": {
            "text/html": [
              "<div>\n",
              "<style scoped>\n",
              "    .dataframe tbody tr th:only-of-type {\n",
              "        vertical-align: middle;\n",
              "    }\n",
              "\n",
              "    .dataframe tbody tr th {\n",
              "        vertical-align: top;\n",
              "    }\n",
              "\n",
              "    .dataframe thead th {\n",
              "        text-align: right;\n",
              "    }\n",
              "</style>\n",
              "<table border=\"1\" class=\"dataframe\">\n",
              "  <thead>\n",
              "    <tr style=\"text-align: right;\">\n",
              "      <th></th>\n",
              "      <th>gender</th>\n",
              "      <th>cholesterol</th>\n",
              "      <th>gluc</th>\n",
              "      <th>smoke</th>\n",
              "      <th>alco</th>\n",
              "      <th>active</th>\n",
              "      <th>cardio</th>\n",
              "    </tr>\n",
              "  </thead>\n",
              "  <tbody>\n",
              "    <tr>\n",
              "      <th>0</th>\n",
              "      <td>2</td>\n",
              "      <td>1</td>\n",
              "      <td>1</td>\n",
              "      <td>0</td>\n",
              "      <td>0</td>\n",
              "      <td>1</td>\n",
              "      <td>0</td>\n",
              "    </tr>\n",
              "    <tr>\n",
              "      <th>1</th>\n",
              "      <td>1</td>\n",
              "      <td>3</td>\n",
              "      <td>1</td>\n",
              "      <td>0</td>\n",
              "      <td>0</td>\n",
              "      <td>1</td>\n",
              "      <td>1</td>\n",
              "    </tr>\n",
              "    <tr>\n",
              "      <th>2</th>\n",
              "      <td>1</td>\n",
              "      <td>3</td>\n",
              "      <td>1</td>\n",
              "      <td>0</td>\n",
              "      <td>0</td>\n",
              "      <td>0</td>\n",
              "      <td>1</td>\n",
              "    </tr>\n",
              "    <tr>\n",
              "      <th>3</th>\n",
              "      <td>2</td>\n",
              "      <td>1</td>\n",
              "      <td>1</td>\n",
              "      <td>0</td>\n",
              "      <td>0</td>\n",
              "      <td>1</td>\n",
              "      <td>1</td>\n",
              "    </tr>\n",
              "    <tr>\n",
              "      <th>4</th>\n",
              "      <td>1</td>\n",
              "      <td>1</td>\n",
              "      <td>1</td>\n",
              "      <td>0</td>\n",
              "      <td>0</td>\n",
              "      <td>0</td>\n",
              "      <td>0</td>\n",
              "    </tr>\n",
              "    <tr>\n",
              "      <th>...</th>\n",
              "      <td>...</td>\n",
              "      <td>...</td>\n",
              "      <td>...</td>\n",
              "      <td>...</td>\n",
              "      <td>...</td>\n",
              "      <td>...</td>\n",
              "      <td>...</td>\n",
              "    </tr>\n",
              "    <tr>\n",
              "      <th>69995</th>\n",
              "      <td>2</td>\n",
              "      <td>1</td>\n",
              "      <td>1</td>\n",
              "      <td>1</td>\n",
              "      <td>0</td>\n",
              "      <td>1</td>\n",
              "      <td>0</td>\n",
              "    </tr>\n",
              "    <tr>\n",
              "      <th>69996</th>\n",
              "      <td>1</td>\n",
              "      <td>2</td>\n",
              "      <td>2</td>\n",
              "      <td>0</td>\n",
              "      <td>0</td>\n",
              "      <td>1</td>\n",
              "      <td>1</td>\n",
              "    </tr>\n",
              "    <tr>\n",
              "      <th>69997</th>\n",
              "      <td>2</td>\n",
              "      <td>3</td>\n",
              "      <td>1</td>\n",
              "      <td>0</td>\n",
              "      <td>1</td>\n",
              "      <td>0</td>\n",
              "      <td>1</td>\n",
              "    </tr>\n",
              "    <tr>\n",
              "      <th>69998</th>\n",
              "      <td>1</td>\n",
              "      <td>1</td>\n",
              "      <td>2</td>\n",
              "      <td>0</td>\n",
              "      <td>0</td>\n",
              "      <td>0</td>\n",
              "      <td>1</td>\n",
              "    </tr>\n",
              "    <tr>\n",
              "      <th>69999</th>\n",
              "      <td>1</td>\n",
              "      <td>2</td>\n",
              "      <td>1</td>\n",
              "      <td>0</td>\n",
              "      <td>0</td>\n",
              "      <td>1</td>\n",
              "      <td>0</td>\n",
              "    </tr>\n",
              "  </tbody>\n",
              "</table>\n",
              "<p>70000 rows × 7 columns</p>\n",
              "</div>"
            ],
            "text/plain": [
              "       gender  cholesterol  gluc  smoke  alco  active  cardio\n",
              "0           2            1     1      0     0       1       0\n",
              "1           1            3     1      0     0       1       1\n",
              "2           1            3     1      0     0       0       1\n",
              "3           2            1     1      0     0       1       1\n",
              "4           1            1     1      0     0       0       0\n",
              "...       ...          ...   ...    ...   ...     ...     ...\n",
              "69995       2            1     1      1     0       1       0\n",
              "69996       1            2     2      0     0       1       1\n",
              "69997       2            3     1      0     1       0       1\n",
              "69998       1            1     2      0     0       0       1\n",
              "69999       1            2     1      0     0       1       0\n",
              "\n",
              "[70000 rows x 7 columns]"
            ]
          },
          "metadata": {
            "tags": []
          },
          "execution_count": 531
        }
      ]
    },
    {
      "cell_type": "code",
      "metadata": {
        "id": "jJ5uNZ6sYQ0u",
        "outputId": "cf6e8906-0794-46db-ae3f-4e55123923bd",
        "colab": {
          "base_uri": "https://localhost:8080/",
          "height": 424
        }
      },
      "source": [
        "features_numericas = ['age', 'height', 'weight','imc', 'ap_hi', 'ap_lo', 'cardio']\n",
        "numerical_data = dados_drop[features_numericas]\n",
        "numerical_data"
      ],
      "execution_count": null,
      "outputs": [
        {
          "output_type": "execute_result",
          "data": {
            "text/html": [
              "<div>\n",
              "<style scoped>\n",
              "    .dataframe tbody tr th:only-of-type {\n",
              "        vertical-align: middle;\n",
              "    }\n",
              "\n",
              "    .dataframe tbody tr th {\n",
              "        vertical-align: top;\n",
              "    }\n",
              "\n",
              "    .dataframe thead th {\n",
              "        text-align: right;\n",
              "    }\n",
              "</style>\n",
              "<table border=\"1\" class=\"dataframe\">\n",
              "  <thead>\n",
              "    <tr style=\"text-align: right;\">\n",
              "      <th></th>\n",
              "      <th>age</th>\n",
              "      <th>height</th>\n",
              "      <th>weight</th>\n",
              "      <th>imc</th>\n",
              "      <th>ap_hi</th>\n",
              "      <th>ap_lo</th>\n",
              "      <th>cardio</th>\n",
              "    </tr>\n",
              "  </thead>\n",
              "  <tbody>\n",
              "    <tr>\n",
              "      <th>0</th>\n",
              "      <td>50.391781</td>\n",
              "      <td>168</td>\n",
              "      <td>62.0</td>\n",
              "      <td>21.967120</td>\n",
              "      <td>110</td>\n",
              "      <td>80</td>\n",
              "      <td>0</td>\n",
              "    </tr>\n",
              "    <tr>\n",
              "      <th>1</th>\n",
              "      <td>55.419178</td>\n",
              "      <td>156</td>\n",
              "      <td>85.0</td>\n",
              "      <td>34.927679</td>\n",
              "      <td>140</td>\n",
              "      <td>90</td>\n",
              "      <td>1</td>\n",
              "    </tr>\n",
              "    <tr>\n",
              "      <th>2</th>\n",
              "      <td>51.663014</td>\n",
              "      <td>165</td>\n",
              "      <td>64.0</td>\n",
              "      <td>23.507805</td>\n",
              "      <td>130</td>\n",
              "      <td>70</td>\n",
              "      <td>1</td>\n",
              "    </tr>\n",
              "    <tr>\n",
              "      <th>3</th>\n",
              "      <td>48.282192</td>\n",
              "      <td>169</td>\n",
              "      <td>82.0</td>\n",
              "      <td>28.710479</td>\n",
              "      <td>150</td>\n",
              "      <td>100</td>\n",
              "      <td>1</td>\n",
              "    </tr>\n",
              "    <tr>\n",
              "      <th>4</th>\n",
              "      <td>47.873973</td>\n",
              "      <td>156</td>\n",
              "      <td>56.0</td>\n",
              "      <td>23.011177</td>\n",
              "      <td>100</td>\n",
              "      <td>60</td>\n",
              "      <td>0</td>\n",
              "    </tr>\n",
              "    <tr>\n",
              "      <th>...</th>\n",
              "      <td>...</td>\n",
              "      <td>...</td>\n",
              "      <td>...</td>\n",
              "      <td>...</td>\n",
              "      <td>...</td>\n",
              "      <td>...</td>\n",
              "      <td>...</td>\n",
              "    </tr>\n",
              "    <tr>\n",
              "      <th>69995</th>\n",
              "      <td>52.712329</td>\n",
              "      <td>168</td>\n",
              "      <td>76.0</td>\n",
              "      <td>26.927438</td>\n",
              "      <td>120</td>\n",
              "      <td>80</td>\n",
              "      <td>0</td>\n",
              "    </tr>\n",
              "    <tr>\n",
              "      <th>69996</th>\n",
              "      <td>61.920548</td>\n",
              "      <td>158</td>\n",
              "      <td>126.0</td>\n",
              "      <td>50.472681</td>\n",
              "      <td>140</td>\n",
              "      <td>90</td>\n",
              "      <td>1</td>\n",
              "    </tr>\n",
              "    <tr>\n",
              "      <th>69997</th>\n",
              "      <td>52.235616</td>\n",
              "      <td>183</td>\n",
              "      <td>105.0</td>\n",
              "      <td>31.353579</td>\n",
              "      <td>180</td>\n",
              "      <td>90</td>\n",
              "      <td>1</td>\n",
              "    </tr>\n",
              "    <tr>\n",
              "      <th>69998</th>\n",
              "      <td>61.454795</td>\n",
              "      <td>163</td>\n",
              "      <td>72.0</td>\n",
              "      <td>27.099251</td>\n",
              "      <td>135</td>\n",
              "      <td>80</td>\n",
              "      <td>1</td>\n",
              "    </tr>\n",
              "    <tr>\n",
              "      <th>69999</th>\n",
              "      <td>56.273973</td>\n",
              "      <td>170</td>\n",
              "      <td>72.0</td>\n",
              "      <td>24.913495</td>\n",
              "      <td>120</td>\n",
              "      <td>80</td>\n",
              "      <td>0</td>\n",
              "    </tr>\n",
              "  </tbody>\n",
              "</table>\n",
              "<p>70000 rows × 7 columns</p>\n",
              "</div>"
            ],
            "text/plain": [
              "             age  height  weight        imc  ap_hi  ap_lo  cardio\n",
              "0      50.391781     168    62.0  21.967120    110     80       0\n",
              "1      55.419178     156    85.0  34.927679    140     90       1\n",
              "2      51.663014     165    64.0  23.507805    130     70       1\n",
              "3      48.282192     169    82.0  28.710479    150    100       1\n",
              "4      47.873973     156    56.0  23.011177    100     60       0\n",
              "...          ...     ...     ...        ...    ...    ...     ...\n",
              "69995  52.712329     168    76.0  26.927438    120     80       0\n",
              "69996  61.920548     158   126.0  50.472681    140     90       1\n",
              "69997  52.235616     183   105.0  31.353579    180     90       1\n",
              "69998  61.454795     163    72.0  27.099251    135     80       1\n",
              "69999  56.273973     170    72.0  24.913495    120     80       0\n",
              "\n",
              "[70000 rows x 7 columns]"
            ]
          },
          "metadata": {
            "tags": []
          },
          "execution_count": 532
        }
      ]
    },
    {
      "cell_type": "markdown",
      "metadata": {
        "id": "vg2CcBnP5vQL"
      },
      "source": [
        "Vamos agora fazer a análise da correlação com os dados numéricos."
      ]
    },
    {
      "cell_type": "code",
      "metadata": {
        "id": "AVtMqJ0x5uoA",
        "outputId": "66e19867-55ac-4402-b6af-47eb57d51221",
        "colab": {
          "base_uri": "https://localhost:8080/",
          "height": 342
        }
      },
      "source": [
        "#Vamos criar um gráfico de barras para analisar a correlação das features com o label\n",
        "#Para a correlação, utilizaremos o método de pearson\n",
        "cor_pearson = numerical_data.corr(method='pearson')\n",
        "#Dropando o cardio, pois ele tem uma relação de 1 para 1 com o cárdio\n",
        "cor_pearson = cor_pearson.drop('cardio')\n",
        "#Plotando um gráfico de barras com a correlação\n",
        "cor_pearson['cardio'].plot.bar(subplots=True, color = 'orange')"
      ],
      "execution_count": 615,
      "outputs": [
        {
          "output_type": "execute_result",
          "data": {
            "text/plain": [
              "array([<matplotlib.axes._subplots.AxesSubplot object at 0x7fe939f35080>],\n",
              "      dtype=object)"
            ]
          },
          "metadata": {
            "tags": []
          },
          "execution_count": 615
        },
        {
          "output_type": "display_data",
          "data": {
            "image/png": "[encoded data removed]",
            "text/plain": [
              "<Figure size 432x288 with 1 Axes>"
            ]
          },
          "metadata": {
            "tags": [],
            "needs_background": "light"
          }
        }
      ]
    },
    {
      "cell_type": "markdown",
      "metadata": {
        "id": "xy8AZx6o50-9"
      },
      "source": [
        "Analisando a correlação dos demais atributos com o atributo \"cardio\", podemos concluir que a altura pouco influência na ocorrência de uma pessoa ter uma doença cardíaca, já o peso, idade e pressão cardíaca sistólica e diastólica possuem influências maiores nessa ocorrência. Assim, reduziremos o número de atributos para acelerar o treino, mantendo os atributos \"age\", \"weight\", \"ap_hi\" e \"ap_lo\" (o atributo imc criado mostrou não ser uma grande influência, pois depende da altura, que possui uma baixa correlação - inclusive negativa -  com a ocorrência de doenças cardíacas). \n",
        "\n",
        "Mesmo que o atributo IMC não seja tão relevante, realizaremos dois treinos, um mantendo os atributos descritos anteriormente (com o peso em kg), e outro com o IMC no lugar do peso, para comparar os resultados.   "
      ]
    },
    {
      "cell_type": "markdown",
      "metadata": {
        "id": "xYkWqVy_Y_FS"
      },
      "source": [
        "Agora precisamos transformar os dados categóricos em representações one-hot, para podermos fazer análises da relevância dos dados."
      ]
    },
    {
      "cell_type": "code",
      "metadata": {
        "id": "rdqHPxXZZFyj",
        "outputId": "86b54211-ff1c-4374-e2d7-492f8143d12b",
        "colab": {
          "base_uri": "https://localhost:8080/",
          "height": 444
        }
      },
      "source": [
        "#transformando cada um dos dados categóricos em representações one-hot\n",
        "categorical_data = pd.concat([categorical_data, pd.get_dummies(categorical_data['gender'], prefix='gender')], axis = 1)\n",
        "categorical_data = pd.concat([categorical_data, pd.get_dummies(categorical_data['cholesterol'], prefix='cholesterol')], axis = 1)\n",
        "categorical_data = pd.concat([categorical_data, pd.get_dummies(categorical_data['gluc'], prefix='gluc')], axis = 1)\n",
        "categorical_data = pd.concat([categorical_data, pd.get_dummies(categorical_data['cardio'], prefix='cardio')], axis = 1)\n",
        "\n",
        "#removendo as colunas originais, pois foram substituidas pela representação one-hot\n",
        "categorical_data = categorical_data.drop(columns=['gender', 'cholesterol', 'gluc'])\n",
        "\n",
        "\n",
        "categorical_data\n"
      ],
      "execution_count": null,
      "outputs": [
        {
          "output_type": "execute_result",
          "data": {
            "text/html": [
              "<div>\n",
              "<style scoped>\n",
              "    .dataframe tbody tr th:only-of-type {\n",
              "        vertical-align: middle;\n",
              "    }\n",
              "\n",
              "    .dataframe tbody tr th {\n",
              "        vertical-align: top;\n",
              "    }\n",
              "\n",
              "    .dataframe thead th {\n",
              "        text-align: right;\n",
              "    }\n",
              "</style>\n",
              "<table border=\"1\" class=\"dataframe\">\n",
              "  <thead>\n",
              "    <tr style=\"text-align: right;\">\n",
              "      <th></th>\n",
              "      <th>smoke</th>\n",
              "      <th>alco</th>\n",
              "      <th>active</th>\n",
              "      <th>cardio</th>\n",
              "      <th>gender_1</th>\n",
              "      <th>gender_2</th>\n",
              "      <th>cholesterol_1</th>\n",
              "      <th>cholesterol_2</th>\n",
              "      <th>cholesterol_3</th>\n",
              "      <th>gluc_1</th>\n",
              "      <th>gluc_2</th>\n",
              "      <th>gluc_3</th>\n",
              "      <th>cardio_0</th>\n",
              "      <th>cardio_1</th>\n",
              "    </tr>\n",
              "  </thead>\n",
              "  <tbody>\n",
              "    <tr>\n",
              "      <th>0</th>\n",
              "      <td>0</td>\n",
              "      <td>0</td>\n",
              "      <td>1</td>\n",
              "      <td>0</td>\n",
              "      <td>0</td>\n",
              "      <td>1</td>\n",
              "      <td>1</td>\n",
              "      <td>0</td>\n",
              "      <td>0</td>\n",
              "      <td>1</td>\n",
              "      <td>0</td>\n",
              "      <td>0</td>\n",
              "      <td>1</td>\n",
              "      <td>0</td>\n",
              "    </tr>\n",
              "    <tr>\n",
              "      <th>1</th>\n",
              "      <td>0</td>\n",
              "      <td>0</td>\n",
              "      <td>1</td>\n",
              "      <td>1</td>\n",
              "      <td>1</td>\n",
              "      <td>0</td>\n",
              "      <td>0</td>\n",
              "      <td>0</td>\n",
              "      <td>1</td>\n",
              "      <td>1</td>\n",
              "      <td>0</td>\n",
              "      <td>0</td>\n",
              "      <td>0</td>\n",
              "      <td>1</td>\n",
              "    </tr>\n",
              "    <tr>\n",
              "      <th>2</th>\n",
              "      <td>0</td>\n",
              "      <td>0</td>\n",
              "      <td>0</td>\n",
              "      <td>1</td>\n",
              "      <td>1</td>\n",
              "      <td>0</td>\n",
              "      <td>0</td>\n",
              "      <td>0</td>\n",
              "      <td>1</td>\n",
              "      <td>1</td>\n",
              "      <td>0</td>\n",
              "      <td>0</td>\n",
              "      <td>0</td>\n",
              "      <td>1</td>\n",
              "    </tr>\n",
              "    <tr>\n",
              "      <th>3</th>\n",
              "      <td>0</td>\n",
              "      <td>0</td>\n",
              "      <td>1</td>\n",
              "      <td>1</td>\n",
              "      <td>0</td>\n",
              "      <td>1</td>\n",
              "      <td>1</td>\n",
              "      <td>0</td>\n",
              "      <td>0</td>\n",
              "      <td>1</td>\n",
              "      <td>0</td>\n",
              "      <td>0</td>\n",
              "      <td>0</td>\n",
              "      <td>1</td>\n",
              "    </tr>\n",
              "    <tr>\n",
              "      <th>4</th>\n",
              "      <td>0</td>\n",
              "      <td>0</td>\n",
              "      <td>0</td>\n",
              "      <td>0</td>\n",
              "      <td>1</td>\n",
              "      <td>0</td>\n",
              "      <td>1</td>\n",
              "      <td>0</td>\n",
              "      <td>0</td>\n",
              "      <td>1</td>\n",
              "      <td>0</td>\n",
              "      <td>0</td>\n",
              "      <td>1</td>\n",
              "      <td>0</td>\n",
              "    </tr>\n",
              "    <tr>\n",
              "      <th>...</th>\n",
              "      <td>...</td>\n",
              "      <td>...</td>\n",
              "      <td>...</td>\n",
              "      <td>...</td>\n",
              "      <td>...</td>\n",
              "      <td>...</td>\n",
              "      <td>...</td>\n",
              "      <td>...</td>\n",
              "      <td>...</td>\n",
              "      <td>...</td>\n",
              "      <td>...</td>\n",
              "      <td>...</td>\n",
              "      <td>...</td>\n",
              "      <td>...</td>\n",
              "    </tr>\n",
              "    <tr>\n",
              "      <th>69995</th>\n",
              "      <td>1</td>\n",
              "      <td>0</td>\n",
              "      <td>1</td>\n",
              "      <td>0</td>\n",
              "      <td>0</td>\n",
              "      <td>1</td>\n",
              "      <td>1</td>\n",
              "      <td>0</td>\n",
              "      <td>0</td>\n",
              "      <td>1</td>\n",
              "      <td>0</td>\n",
              "      <td>0</td>\n",
              "      <td>1</td>\n",
              "      <td>0</td>\n",
              "    </tr>\n",
              "    <tr>\n",
              "      <th>69996</th>\n",
              "      <td>0</td>\n",
              "      <td>0</td>\n",
              "      <td>1</td>\n",
              "      <td>1</td>\n",
              "      <td>1</td>\n",
              "      <td>0</td>\n",
              "      <td>0</td>\n",
              "      <td>1</td>\n",
              "      <td>0</td>\n",
              "      <td>0</td>\n",
              "      <td>1</td>\n",
              "      <td>0</td>\n",
              "      <td>0</td>\n",
              "      <td>1</td>\n",
              "    </tr>\n",
              "    <tr>\n",
              "      <th>69997</th>\n",
              "      <td>0</td>\n",
              "      <td>1</td>\n",
              "      <td>0</td>\n",
              "      <td>1</td>\n",
              "      <td>0</td>\n",
              "      <td>1</td>\n",
              "      <td>0</td>\n",
              "      <td>0</td>\n",
              "      <td>1</td>\n",
              "      <td>1</td>\n",
              "      <td>0</td>\n",
              "      <td>0</td>\n",
              "      <td>0</td>\n",
              "      <td>1</td>\n",
              "    </tr>\n",
              "    <tr>\n",
              "      <th>69998</th>\n",
              "      <td>0</td>\n",
              "      <td>0</td>\n",
              "      <td>0</td>\n",
              "      <td>1</td>\n",
              "      <td>1</td>\n",
              "      <td>0</td>\n",
              "      <td>1</td>\n",
              "      <td>0</td>\n",
              "      <td>0</td>\n",
              "      <td>0</td>\n",
              "      <td>1</td>\n",
              "      <td>0</td>\n",
              "      <td>0</td>\n",
              "      <td>1</td>\n",
              "    </tr>\n",
              "    <tr>\n",
              "      <th>69999</th>\n",
              "      <td>0</td>\n",
              "      <td>0</td>\n",
              "      <td>1</td>\n",
              "      <td>0</td>\n",
              "      <td>1</td>\n",
              "      <td>0</td>\n",
              "      <td>0</td>\n",
              "      <td>1</td>\n",
              "      <td>0</td>\n",
              "      <td>1</td>\n",
              "      <td>0</td>\n",
              "      <td>0</td>\n",
              "      <td>1</td>\n",
              "      <td>0</td>\n",
              "    </tr>\n",
              "  </tbody>\n",
              "</table>\n",
              "<p>70000 rows × 14 columns</p>\n",
              "</div>"
            ],
            "text/plain": [
              "       smoke  alco  active  cardio  ...  gluc_2  gluc_3  cardio_0  cardio_1\n",
              "0          0     0       1       0  ...       0       0         1         0\n",
              "1          0     0       1       1  ...       0       0         0         1\n",
              "2          0     0       0       1  ...       0       0         0         1\n",
              "3          0     0       1       1  ...       0       0         0         1\n",
              "4          0     0       0       0  ...       0       0         1         0\n",
              "...      ...   ...     ...     ...  ...     ...     ...       ...       ...\n",
              "69995      1     0       1       0  ...       0       0         1         0\n",
              "69996      0     0       1       1  ...       1       0         0         1\n",
              "69997      0     1       0       1  ...       0       0         0         1\n",
              "69998      0     0       0       1  ...       1       0         0         1\n",
              "69999      0     0       1       0  ...       0       0         1         0\n",
              "\n",
              "[70000 rows x 14 columns]"
            ]
          },
          "metadata": {
            "tags": []
          },
          "execution_count": 533
        }
      ]
    },
    {
      "cell_type": "markdown",
      "metadata": {
        "id": "KbwiOIog9gr7"
      },
      "source": [
        "Para encontrar as variáveis categóricas mais importantes, não podemos utilizar diretamente a correlação de Pearson, assim utilizaremos o método **Feature Importance**. Ele  fornece uma pontuação para cada variável do conjunto de dados, sendo que quanto maior a pontuação, mais importante ou relevante é aquela variável para a saída, havendo uma maior relação.\n",
        "Esse método é uma classe embutida que vem com classificadores baseados em árvores de decisão, logo usaremos o Extra Tree Classifier para extrair os 10 principais recursos para o conjunto de dados."
      ]
    },
    {
      "cell_type": "code",
      "metadata": {
        "id": "SrvQB69y69Fc",
        "outputId": "8e0712a1-fc86-4f90-bee9-8494e69bb4ca",
        "colab": {
          "base_uri": "https://localhost:8080/",
          "height": 357
        }
      },
      "source": [
        "from sklearn.ensemble import ExtraTreesClassifier\n",
        "model = ExtraTreesClassifier()\n",
        "model.fit(categorical_data, categorical_data[\"cardio\"])\n",
        "print(model.feature_importances_)\n",
        "feat_importances = pd.Series(model.feature_importances_, index=categorical_data.columns)\n",
        "feat_importances.nlargest(12).plot(kind='barh')"
      ],
      "execution_count": null,
      "outputs": [
        {
          "output_type": "stream",
          "text": [
            "[1.38540918e-05 6.51668040e-06 1.15584821e-04 3.07817743e-01\n",
            " 2.04065889e-05 1.56292595e-05 6.41812240e-03 7.11423602e-04\n",
            " 3.27346012e-03 5.40928148e-04 7.57767915e-05 1.44928740e-04\n",
            " 2.94418318e-01 3.86427307e-01]\n"
          ],
          "name": "stdout"
        },
        {
          "output_type": "execute_result",
          "data": {
            "text/plain": [
              "<matplotlib.axes._subplots.AxesSubplot at 0x7fe939f3c7b8>"
            ]
          },
          "metadata": {
            "tags": []
          },
          "execution_count": 535
        },
        {
          "output_type": "display_data",
          "data": {
            "image/png": "[encoded data removed]",
            "text/plain": [
              "<Figure size 432x288 with 1 Axes>"
            ]
          },
          "metadata": {
            "tags": [],
            "needs_background": "light"
          }
        }
      ]
    },
    {
      "cell_type": "code",
      "metadata": {
        "id": "Lj_0szMx7roD",
        "outputId": "697808bf-1128-44ed-cf46-988c0e39f2df",
        "colab": {
          "base_uri": "https://localhost:8080/",
          "height": 35
        }
      },
      "source": [
        "#selecionando as features mais importantes em ordem descrescente de importância\n",
        "final_features = []\n",
        "for index, _ in feat_importances.nlargest(10).iteritems():\n",
        "  final_features.append(index)\n",
        "\n",
        "print(final_features)"
      ],
      "execution_count": null,
      "outputs": [
        {
          "output_type": "stream",
          "text": [
            "['cardio_1', 'cardio', 'cardio_0', 'cholesterol_1', 'cholesterol_3', 'cholesterol_2', 'gluc_1', 'gluc_3', 'active', 'gluc_2']\n"
          ],
          "name": "stdout"
        }
      ]
    },
    {
      "cell_type": "markdown",
      "metadata": {
        "id": "wpMEgu6Gpokh"
      },
      "source": [
        "Neste caso, podemos perceber que as features relacionadas ao hábito de fumar, hábito de beber, atividade física e gênero não possuem tanta influência para gerar uma doença cardíaca. Por isso removerei tais features do treino. "
      ]
    },
    {
      "cell_type": "markdown",
      "metadata": {
        "id": "_uPCc4EAAvuT"
      },
      "source": [
        "Separando agora os dados de treino e teste, retirando as features que não serão utilizadas no treino. Faremos duas análises e treinamentos, uma considerando somente o peso dos indivíduos e não o IMC e a outra considerando apenas o IMC e não o peso. Para realizar o treinamento, utilizaremos $85\\%$ dos dados para treinamento e $15\\%$ dos dados para teste. "
      ]
    },
    {
      "cell_type": "code",
      "metadata": {
        "id": "PdEuk6q8QXhS"
      },
      "source": [
        "#Dados para o treino considerando o Peso\n",
        "aux1 = numerical_data[[\"age\", \"weight\", \"ap_hi\", \"ap_lo\"]]\n",
        "aux2 = categorical_data[[\"cholesterol_1\", \"cholesterol_2\", \"cholesterol_3\", \"gluc_1\", \"gluc_2\", \"gluc_3\", \"cardio_0\", \"cardio_1\"]]\n",
        "aux3 = pd.concat([aux1, aux2], axis=1)\n",
        "\n",
        "train_weight_x, train_weight_y = aux3.iloc[0:60000, 0:10], aux3.iloc[0:60000, 10:12]\n",
        "test_weight_x, test_weight_y = aux3.iloc[60000: 70000, 0:10], aux3.iloc[60000: 70000, 10:12]\n",
        "\n",
        "\n",
        "#Dados para o treino considerando o IMC\n",
        "aux1 = numerical_data[[\"age\", \"imc\", \"ap_hi\", \"ap_lo\"]]\n",
        "aux2 = categorical_data[[\"cholesterol_1\", \"cholesterol_2\", \"cholesterol_3\", \"gluc_1\", \"gluc_2\", \"gluc_3\", \"cardio_0\", \"cardio_1\"]]\n",
        "aux3 = pd.concat([aux1, aux2], axis=1)\n",
        "\n",
        "train_imc_x, train_imc_y = aux3.iloc[0:60000, 0:10], aux3.iloc[0:60000, 10:12]\n",
        "test_imc_x, test_imc_y = aux3.iloc[60000:70000, 0:10], aux3.iloc[60000:70000, 10:12]\n",
        "\n"
      ],
      "execution_count": null,
      "outputs": []
    },
    {
      "cell_type": "markdown",
      "metadata": {
        "id": "AAwq27KsMwSH"
      },
      "source": [
        "Agora vamos finalmente para o treino :)\n",
        "\n",
        "Primeiramente, vamos criar nosso modelo de análise. Para este problema, foi escolhida uma Multi-Layer Perceptron para realizar a classificação.\n",
        "\n",
        "A arquitetura usada pela rede foi:\n",
        "\n",
        "BATCH_SIZE = 1024\n",
        "\n",
        "EPOCHS = 100\n",
        "\n",
        "LEARNING_RATE = 0.005\n",
        "\n",
        "Isso significa que o conjunto de dados será dividido em lotes de 1024, e todos esses lotes gerados serão treinados 100 vezes (1 época = percorrer uma vez todo o conjunto de dados no treino). O learning rate foi definido como 0.005 pois foi o valor que performou de forma mais satisfatória após a análise de diferentes valores. "
      ]
    },
    {
      "cell_type": "code",
      "metadata": {
        "id": "0i8iwIwvlnla",
        "outputId": "ae35bf7e-dba3-4c38-8076-b13618d57740",
        "colab": {
          "base_uri": "https://localhost:8080/",
          "height": 109
        }
      },
      "source": [
        "#Definindo o modelo da rede\n",
        "import torch\n",
        "import torch.nn as nn\n",
        "import torch.nn.functional as F\n",
        "from tqdm import tqdm\n",
        "\n",
        "class Cardio_Model(nn.Module):\n",
        "  def __init__(self):\n",
        "    super(Cardio_Model, self).__init__()\n",
        "\n",
        "    self.fc1 = nn.Linear(10, 8)\n",
        "    self.fc2 = nn.Linear(8, 6)\n",
        "    self.fc3 = nn.Linear(6, 2)\n",
        "\n",
        "  def forward(self, x):\n",
        "    x = F.tanh(self.fc1(x))\n",
        "    x = F.relu(self.fc2(x))\n",
        "\n",
        "    return F.sigmoid(self.fc3(x))\n",
        "\n",
        "#Testando a rede\n",
        "model = Cardio_Model()\n",
        "model"
      ],
      "execution_count": 608,
      "outputs": [
        {
          "output_type": "execute_result",
          "data": {
            "text/plain": [
              "Cardio_Model(\n",
              "  (fc1): Linear(in_features=10, out_features=8, bias=True)\n",
              "  (fc2): Linear(in_features=8, out_features=6, bias=True)\n",
              "  (fc3): Linear(in_features=6, out_features=2, bias=True)\n",
              ")"
            ]
          },
          "metadata": {
            "tags": []
          },
          "execution_count": 608
        }
      ]
    },
    {
      "cell_type": "markdown",
      "metadata": {
        "id": "zP3_d7kqUNgW"
      },
      "source": [
        "Criando agora o modelo de treino."
      ]
    },
    {
      "cell_type": "code",
      "metadata": {
        "id": "BnGhF0pMnpKB"
      },
      "source": [
        "#Definindo Variáveis e Hiperparâmetros\n",
        "BATCH_SIZE = 1024\n",
        "EPOCHS = 100\n",
        "LEARNING_RATE = 0.005\n",
        "print_results = 60000\n",
        "\n",
        "#Criando o modelo\n",
        "cardio_model = Cardio_Model()\n",
        "\n",
        "#Setando o optimizador e a loss function\n",
        "optimizer = torch.optim.Adam(params=cardio_model.parameters(), lr=LEARNING_RATE)\n",
        "loss_function = nn.BCELoss()"
      ],
      "execution_count": 609,
      "outputs": []
    },
    {
      "cell_type": "code",
      "metadata": {
        "id": "fRxJy26zoIYB"
      },
      "source": [
        "tensor_x = torch.tensor(train_weight_x.values, dtype=torch.float32)\n",
        "tensor_y = torch.tensor(train_weight_y.values, dtype=torch.float32)"
      ],
      "execution_count": 610,
      "outputs": []
    },
    {
      "cell_type": "code",
      "metadata": {
        "id": "dhDH_i1KoMkd"
      },
      "source": [
        "dl_train_weight_x = torch.utils.data.DataLoader(tensor_x, batch_size=BATCH_SIZE)\n",
        "dl_train_weight_y = torch.utils.data.DataLoader(tensor_y, batch_size=BATCH_SIZE)"
      ],
      "execution_count": 611,
      "outputs": []
    },
    {
      "cell_type": "code",
      "metadata": {
        "id": "o-reLZhdnpkC"
      },
      "source": [
        "#Guarda a loss ao longo das épocas para posteriormente plotar seu gráfico\n",
        "loss_over_epochs = []\n",
        "\n",
        "#Treinando o modelo\n",
        "for epoch in range(EPOCHS):\n",
        "  #Carregando os iteradores de batch\n",
        "  iter_x = iter(dl_train_weight_x)\n",
        "  iter_y = iter(dl_train_weight_y)\n",
        "\n",
        "  for i in range(0, len(train_weight_x), BATCH_SIZE):\n",
        "\n",
        "    #Alocando batch do iterador\n",
        "    batch_X = iter_x.next()\n",
        "    batch_y = iter_y.next()\n",
        "\n",
        "    #Zerando a loss function para não acumular\n",
        "    cardio_model.zero_grad()\n",
        "\n",
        "    #Forward Prop\n",
        "    outputs = cardio_model(batch_X)\n",
        "\n",
        "    #Calculando a loss\n",
        "    loss = loss_function(outputs, batch_y)\n",
        "    #Backward Prop\n",
        "    loss.backward()\n",
        "\n",
        "    #Atualizando os pesos\n",
        "    optimizer.step()\n",
        "\n",
        "    if i % print_results == 0:\n",
        "      #Printando perda e informações\n",
        "      loss_over_epochs.append(loss.item())\n",
        "      print(\"Train Epoch: \", epoch, \"   LOSS: \", loss.item())"
      ],
      "execution_count": null,
      "outputs": []
    },
    {
      "cell_type": "code",
      "metadata": {
        "id": "nVuyJXnkE-FA",
        "outputId": "da1ca205-6131-458f-a9c6-920355576e7a",
        "colab": {
          "base_uri": "https://localhost:8080/",
          "height": 279
        }
      },
      "source": [
        "#Plotando a Loss\n",
        "import matplotlib.pyplot as plt\n",
        "\n",
        "plt.grid(True, linestyle='-', which='major', color='lightgrey',alpha=0.5)\n",
        "plt.plot(loss_over_epochs, color='g', linewidth=1.5)\n",
        "\n",
        "plt.ylabel(\"Loss utilizando weight\")\n",
        "plt.xlabel(\"Epoch\")\n",
        "\n",
        "plt.show()\n",
        "\n"
      ],
      "execution_count": 613,
      "outputs": [
        {
          "output_type": "display_data",
          "data": {
            "image/png": "[encoded data removed]",
            "text/plain": [
              "<Figure size 432x288 with 1 Axes>"
            ]
          },
          "metadata": {
            "tags": [],
            "needs_background": "light"
          }
        }
      ]
    },
    {
      "cell_type": "markdown",
      "metadata": {
        "id": "g0YY3E4pESGS"
      },
      "source": [
        "Agora vamos avaliar medidas de desempenho do nosso modelo."
      ]
    },
    {
      "cell_type": "code",
      "metadata": {
        "id": "c1aVH6U7Uce2",
        "outputId": "4bdcd0b0-dc04-4655-d155-eb50c3fdf4f9",
        "colab": {
          "base_uri": "https://localhost:8080/",
          "height": 147
        }
      },
      "source": [
        "correct = 0\n",
        "total = 0\n",
        "\n",
        "\n",
        "#Carregando os iteradores de batch\n",
        "iter_x = iter(dl_test_weight_x)\n",
        "iter_y = iter(dl_test_weight_y)\n",
        "\n",
        "with torch.no_grad():\n",
        "  for i in tqdm(range(len(test_weight_x))):\n",
        "\n",
        "    #Alocando batch do iterador\n",
        "    batch_X = iter_x.next()\n",
        "    batch_y = iter_y.next()\n",
        "\n",
        "    real_class = torch.argmax(batch_y)\n",
        "    net_out = cardio_model(batch_X)\n",
        "    \n",
        "    predicted_class = torch.argmax(net_out)\n",
        "\n",
        "    if(predicted_class == real_class):\n",
        "      correct += 1\n",
        "    total += 1\n",
        "\n",
        "  print(\"Accuracy: \", correct/total*100)"
      ],
      "execution_count": 614,
      "outputs": [
        {
          "output_type": "stream",
          "text": [
            "  0%|          | 0/10000 [00:00<?, ?it/s]/usr/local/lib/python3.6/dist-packages/torch/nn/functional.py:1614: UserWarning: nn.functional.tanh is deprecated. Use torch.tanh instead.\n",
            "  warnings.warn(\"nn.functional.tanh is deprecated. Use torch.tanh instead.\")\n",
            "/usr/local/lib/python3.6/dist-packages/torch/nn/functional.py:1625: UserWarning: nn.functional.sigmoid is deprecated. Use torch.sigmoid instead.\n",
            "  warnings.warn(\"nn.functional.sigmoid is deprecated. Use torch.sigmoid instead.\")\n",
            "100%|██████████| 10000/10000 [00:01<00:00, 6172.31it/s]"
          ],
          "name": "stderr"
        },
        {
          "output_type": "stream",
          "text": [
            "Accuracy:  72.6\n"
          ],
          "name": "stdout"
        },
        {
          "output_type": "stream",
          "text": [
            "\n"
          ],
          "name": "stderr"
        }
      ]
    },
    {
      "cell_type": "markdown",
      "metadata": {
        "id": "DAejBtcCy4uu"
      },
      "source": [
        "Conseguimos então uma acurácia de quase 72.6%. Comparando com outros notebooks do kaggle sobre esse conjunto de dados, resultados similares foram alcançados. "
      ]
    }
  ]
}